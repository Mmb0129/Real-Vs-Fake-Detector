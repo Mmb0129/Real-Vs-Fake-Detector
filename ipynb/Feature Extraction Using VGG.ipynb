{
 "cells": [
  {
   "cell_type": "code",
   "execution_count": 1,
   "id": "d6d5d39f",
   "metadata": {},
   "outputs": [],
   "source": [
    "import numpy as np\n",
    "import pandas as pd\n",
    "from tensorflow.keras.applications.vgg16 import VGG16, preprocess_input\n",
    "from tensorflow.keras.preprocessing import image\n",
    "from tensorflow.keras.models import Model\n",
    "from sklearn.preprocessing import StandardScaler\n",
    "import joblib  # to load your trained SVM model"
   ]
  },
  {
   "cell_type": "code",
   "execution_count": 2,
   "id": "7f27ca47",
   "metadata": {},
   "outputs": [
    {
     "name": "stdout",
     "output_type": "stream",
     "text": [
      "Downloading data from https://storage.googleapis.com/tensorflow/keras-applications/vgg16/vgg16_weights_tf_dim_ordering_tf_kernels_notop.h5\n",
      "58889256/58889256 [==============================] - 8s 0us/step\n"
     ]
    }
   ],
   "source": [
    "\n",
    "# ================================\n",
    "# 1. Load Pre-trained VGG16 Model\n",
    "# ================================\n",
    "# Use the convolutional base only, exclude the top fully connected layers\n",
    "base_model = VGG16(weights='imagenet', include_top=False, input_shape=(224, 224, 3))\n"
   ]
  },
  {
   "cell_type": "code",
   "execution_count": 3,
   "id": "a012d32e",
   "metadata": {},
   "outputs": [],
   "source": [
    "# You can apply GlobalAveragePooling2D to match your deep feature size\n",
    "from tensorflow.keras.layers import GlobalAveragePooling2D\n",
    "from tensorflow.keras.models import Sequential"
   ]
  },
  {
   "cell_type": "code",
   "execution_count": 4,
   "id": "3c86d8ce",
   "metadata": {},
   "outputs": [],
   "source": [
    "\n",
    "model = Sequential([\n",
    "    base_model,\n",
    "    GlobalAveragePooling2D()  # Output: (None, 512)\n",
    "])\n"
   ]
  },
  {
   "cell_type": "code",
   "execution_count": 5,
   "id": "bb44871a",
   "metadata": {},
   "outputs": [],
   "source": [
    "\n",
    "# =====================================\n",
    "# 2. Function to Extract Deep Features\n",
    "# =====================================\n",
    "def extract_deep_features(img_path):\n",
    "    # Load and preprocess image\n",
    "    img = image.load_img(img_path, target_size=(224, 224))\n",
    "    img_data = image.img_to_array(img)\n",
    "    img_data = np.expand_dims(img_data, axis=0)\n",
    "    img_data = preprocess_input(img_data)\n",
    "\n",
    "    # Get deep features\n",
    "    features = model.predict(img_data)\n",
    "\n",
    "    # Flatten to 1D vector\n",
    "    features_flat = features.flatten()\n",
    "\n",
    "    # Reshape as a single sample for prediction\n",
    "    return features_flat.reshape(1, -1)\n"
   ]
  },
  {
   "cell_type": "code",
   "execution_count": null,
   "id": "3649003f",
   "metadata": {},
   "outputs": [],
   "source": [
    "\n",
    "# =================================\n",
    "# 3. Normalize + Predict with SVM\n",
    "# =================================\n",
    "\n",
    "# Load trained StandardScaler and SVM (assuming you saved them earlier)\n",
    "scaler = joblib.load('scaler.pkl')        # StandardScaler() used during training\n",
    "svm_model = joblib.load('svm_model.pkl')  # Your trained SVM"
   ]
  },
  {
   "cell_type": "code",
   "execution_count": null,
   "id": "48d8661a",
   "metadata": {},
   "outputs": [],
   "source": [
    "\n",
    "def predict_real_or_fake(img_path):\n",
    "    deep_feat = extract_deep_features(img_path)\n",
    "    deep_feat_scaled = scaler.transform(deep_feat)\n",
    "    prediction = svm_model.predict(deep_feat_scaled)\n",
    "    return \"Real\" if prediction[0] == \"real\" else \"Fake\""
   ]
  },
  {
   "cell_type": "code",
   "execution_count": null,
   "id": "95a33178",
   "metadata": {},
   "outputs": [],
   "source": [
    "result = predict_real_or_fake(\"path_to_your_custom_image.jpg\")\n",
    "print(\"Prediction:\", result)"
   ]
  },
  {
   "cell_type": "code",
   "execution_count": null,
   "id": "459c4b2e",
   "metadata": {},
   "outputs": [],
   "source": []
  },
  {
   "cell_type": "code",
   "execution_count": null,
   "id": "aad5b356",
   "metadata": {},
   "outputs": [],
   "source": []
  },
  {
   "cell_type": "code",
   "execution_count": null,
   "id": "484658c5",
   "metadata": {},
   "outputs": [],
   "source": []
  },
  {
   "cell_type": "code",
   "execution_count": null,
   "id": "2b45034b",
   "metadata": {},
   "outputs": [],
   "source": []
  },
  {
   "cell_type": "code",
   "execution_count": null,
   "id": "c5007543",
   "metadata": {},
   "outputs": [],
   "source": []
  },
  {
   "cell_type": "code",
   "execution_count": null,
   "id": "766425fc",
   "metadata": {},
   "outputs": [],
   "source": []
  },
  {
   "cell_type": "code",
   "execution_count": null,
   "id": "2b3f46bb",
   "metadata": {},
   "outputs": [],
   "source": []
  },
  {
   "cell_type": "code",
   "execution_count": null,
   "id": "4e41e91d",
   "metadata": {},
   "outputs": [],
   "source": []
  },
  {
   "cell_type": "code",
   "execution_count": null,
   "id": "e9e62b1e",
   "metadata": {},
   "outputs": [],
   "source": []
  },
  {
   "cell_type": "code",
   "execution_count": null,
   "id": "ac43907d",
   "metadata": {},
   "outputs": [],
   "source": []
  },
  {
   "cell_type": "code",
   "execution_count": null,
   "id": "8eb24555",
   "metadata": {},
   "outputs": [],
   "source": []
  },
  {
   "cell_type": "code",
   "execution_count": null,
   "id": "dba0fe94",
   "metadata": {},
   "outputs": [],
   "source": []
  },
  {
   "cell_type": "code",
   "execution_count": null,
   "id": "27ffadaa",
   "metadata": {},
   "outputs": [],
   "source": []
  },
  {
   "cell_type": "code",
   "execution_count": null,
   "id": "17273177",
   "metadata": {},
   "outputs": [],
   "source": []
  }
 ],
 "metadata": {
  "kernelspec": {
   "display_name": "Python 3 (ipykernel)",
   "language": "python",
   "name": "python3"
  },
  "language_info": {
   "codemirror_mode": {
    "name": "ipython",
    "version": 3
   },
   "file_extension": ".py",
   "mimetype": "text/x-python",
   "name": "python",
   "nbconvert_exporter": "python",
   "pygments_lexer": "ipython3",
   "version": "3.10.9"
  }
 },
 "nbformat": 4,
 "nbformat_minor": 5
}
